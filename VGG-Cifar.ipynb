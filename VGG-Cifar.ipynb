{
  "nbformat": 4,
  "nbformat_minor": 0,
  "metadata": {
    "accelerator": "GPU",
    "colab": {
      "name": "VGG-Cifar.ipynb",
      "provenance": [],
      "collapsed_sections": []
    },
    "kernelspec": {
      "display_name": "Python 3",
      "language": "python",
      "name": "python3"
    },
    "language_info": {
      "codemirror_mode": {
        "name": "ipython",
        "version": 3
      },
      "file_extension": ".py",
      "mimetype": "text/x-python",
      "name": "python",
      "nbconvert_exporter": "python",
      "pygments_lexer": "ipython3",
      "version": "3.5.6"
    }
  },
  "cells": [
    {
      "cell_type": "code",
      "metadata": {
        "id": "zQzB9vJzAdFP"
      },
      "source": [
        "import keras\n",
        "from keras.datasets import cifar10\n",
        "from keras.preprocessing.image import ImageDataGenerator\n",
        "from keras.models import Sequential\n",
        "from keras.callbacks import ModelCheckpoint\n",
        "from keras.layers import Dense, Dropout, Activation, Flatten\n",
        "from keras.layers import Conv2D, MaxPooling2D, BatchNormalization\n",
        "from keras import optimizers\n",
        "import numpy as np\n",
        "from keras.layers.core import Lambda\n",
        "from keras import backend as K\n",
        "from keras import regularizers\n",
        "import matplotlib.pyplot as plt\n",
        "import warnings\n",
        "warnings.filterwarnings(\"ignore\")"
      ],
      "execution_count": 1,
      "outputs": []
    },
    {
      "cell_type": "code",
      "metadata": {
        "id": "txjN7zONAfIj"
      },
      "source": [
        "number_classes = 10\n",
        "wght_decay = 0.00005\n",
        "x_shape = [32,32,3]\n",
        "batch_size = 32\n",
        "maxepoches = 30\n",
        "learning_rate = 0.1\n",
        "learning_decay = 1e-6\n",
        "learning_drop = 20"
      ],
      "execution_count": 2,
      "outputs": []
    },
    {
      "cell_type": "code",
      "metadata": {
        "colab": {
          "base_uri": "https://localhost:8080/"
        },
        "id": "N27CkJz8AhG7",
        "outputId": "6ed36611-9ab1-44a7-a995-dba6e0d3ed87"
      },
      "source": [
        "(x_train, y_train), (x_test, y_test) = cifar10.load_data()\n",
        "x_train = x_train.astype('float32')\n",
        "x_test = x_test.astype('float32')"
      ],
      "execution_count": 3,
      "outputs": [
        {
          "output_type": "stream",
          "text": [
            "Downloading data from https://www.cs.toronto.edu/~kriz/cifar-10-python.tar.gz\n",
            "170500096/170498071 [==============================] - 2s 0us/step\n"
          ],
          "name": "stdout"
        }
      ]
    },
    {
      "cell_type": "code",
      "metadata": {
        "colab": {
          "base_uri": "https://localhost:8080/",
          "height": 911
        },
        "id": "0e1YVCqJAjFS",
        "outputId": "202a2433-9a08-46db-c2f2-935492292222"
      },
      "source": [
        "fig = plt.figure(figsize=(18, 8))\n",
        "columns = 5\n",
        "rows = 5\n",
        "for i in range(1, columns*rows + 1):\n",
        "    fig.add_subplot(rows, columns, i)\n",
        "    plt.imshow(x_train[i], interpolation='lanczos')"
      ],
      "execution_count": 4,
      "outputs": [
        {
          "output_type": "stream",
          "text": [
            "Clipping input data to the valid range for imshow with RGB data ([0..1] for floats or [0..255] for integers).\n",
            "Clipping input data to the valid range for imshow with RGB data ([0..1] for floats or [0..255] for integers).\n",
            "Clipping input data to the valid range for imshow with RGB data ([0..1] for floats or [0..255] for integers).\n",
            "Clipping input data to the valid range for imshow with RGB data ([0..1] for floats or [0..255] for integers).\n",
            "Clipping input data to the valid range for imshow with RGB data ([0..1] for floats or [0..255] for integers).\n",
            "Clipping input data to the valid range for imshow with RGB data ([0..1] for floats or [0..255] for integers).\n",
            "Clipping input data to the valid range for imshow with RGB data ([0..1] for floats or [0..255] for integers).\n",
            "Clipping input data to the valid range for imshow with RGB data ([0..1] for floats or [0..255] for integers).\n",
            "Clipping input data to the valid range for imshow with RGB data ([0..1] for floats or [0..255] for integers).\n",
            "Clipping input data to the valid range for imshow with RGB data ([0..1] for floats or [0..255] for integers).\n",
            "Clipping input data to the valid range for imshow with RGB data ([0..1] for floats or [0..255] for integers).\n",
            "Clipping input data to the valid range for imshow with RGB data ([0..1] for floats or [0..255] for integers).\n",
            "Clipping input data to the valid range for imshow with RGB data ([0..1] for floats or [0..255] for integers).\n",
            "Clipping input data to the valid range for imshow with RGB data ([0..1] for floats or [0..255] for integers).\n",
            "Clipping input data to the valid range for imshow with RGB data ([0..1] for floats or [0..255] for integers).\n",
            "Clipping input data to the valid range for imshow with RGB data ([0..1] for floats or [0..255] for integers).\n",
            "Clipping input data to the valid range for imshow with RGB data ([0..1] for floats or [0..255] for integers).\n",
            "Clipping input data to the valid range for imshow with RGB data ([0..1] for floats or [0..255] for integers).\n",
            "Clipping input data to the valid range for imshow with RGB data ([0..1] for floats or [0..255] for integers).\n",
            "Clipping input data to the valid range for imshow with RGB data ([0..1] for floats or [0..255] for integers).\n",
            "Clipping input data to the valid range for imshow with RGB data ([0..1] for floats or [0..255] for integers).\n",
            "Clipping input data to the valid range for imshow with RGB data ([0..1] for floats or [0..255] for integers).\n",
            "Clipping input data to the valid range for imshow with RGB data ([0..1] for floats or [0..255] for integers).\n",
            "Clipping input data to the valid range for imshow with RGB data ([0..1] for floats or [0..255] for integers).\n",
            "Clipping input data to the valid range for imshow with RGB data ([0..1] for floats or [0..255] for integers).\n"
          ],
          "name": "stderr"
        },
        {
          "output_type": "display_data",
          "data": {
            "image/png": "[encoded data removed]",
            "text/plain": [
              "<Figure size 1296x576 with 25 Axes>"
            ]
          },
          "metadata": {
            "tags": [],
            "needs_background": "light"
          }
        }
      ]
    },
    {
      "cell_type": "code",
      "metadata": {
        "id": "xxMCFE35Awcr"
      },
      "source": [
        "mean = np.mean(x_train,axis=(0,1,2,3))\n",
        "std = np.std(x_train, axis=(0, 1, 2, 3))\n",
        "x_train = (x_train-mean)/(std+1e-7)\n",
        "x_test = (x_test-mean)/(std+1e-7)"
      ],
      "execution_count": 5,
      "outputs": []
    },
    {
      "cell_type": "code",
      "metadata": {
        "id": "XEDv7VsIAweL"
      },
      "source": [
        "y_train = keras.utils.to_categorical(y_train, number_classes)\n",
        "y_test = keras.utils.to_categorical(y_test, number_classes)"
      ],
      "execution_count": 6,
      "outputs": []
    },
    {
      "cell_type": "code",
      "metadata": {
        "id": "xa5GFFkTA0Lv"
      },
      "source": [
        "model = Sequential()"
      ],
      "execution_count": 7,
      "outputs": []
    },
    {
      "cell_type": "code",
      "metadata": {
        "id": "zVJdzpqbA2Ak"
      },
      "source": [
        "model.add(Conv2D(64, (3, 3), padding='same',\n",
        "                         input_shape=x_shape,kernel_regularizer=regularizers.l2(wght_decay)))\n",
        "model.add(Activation('relu'))\n",
        "model.add(BatchNormalization())\n",
        "model.add(Dropout(0.3))"
      ],
      "execution_count": 8,
      "outputs": []
    },
    {
      "cell_type": "code",
      "metadata": {
        "id": "jsOy5yHPA4BJ"
      },
      "source": [
        "model.add(Conv2D(64, (3, 3), padding='same',kernel_regularizer=regularizers.l2(wght_decay)))\n",
        "model.add(Activation('relu'))\n",
        "model.add(BatchNormalization())\n",
        "\n",
        "model.add(MaxPooling2D(pool_size=(2, 2)))\n",
        "\n",
        "model.add(Conv2D(128, (3, 3), padding='same',kernel_regularizer=regularizers.l2(wght_decay)))\n",
        "model.add(Activation('relu'))\n",
        "model.add(BatchNormalization())\n",
        "model.add(Dropout(0.4))\n",
        "\n",
        "model.add(Conv2D(128, (3, 3), padding='same',kernel_regularizer=regularizers.l2(wght_decay)))\n",
        "model.add(Activation('relu'))\n",
        "model.add(BatchNormalization())\n",
        "\n",
        "model.add(MaxPooling2D(pool_size=(2, 2)))\n",
        "\n",
        "model.add(Conv2D(256, (3, 3), padding='same',kernel_regularizer=regularizers.l2(wght_decay)))\n",
        "model.add(Activation('relu'))\n",
        "model.add(BatchNormalization())\n",
        "model.add(Dropout(0.4))\n",
        "\n",
        "model.add(Conv2D(256, (3, 3), padding='same',kernel_regularizer=regularizers.l2(wght_decay)))\n",
        "model.add(Activation('relu'))\n",
        "model.add(BatchNormalization())\n",
        "model.add(Dropout(0.4))\n",
        "\n",
        "model.add(Conv2D(256, (3, 3), padding='same',kernel_regularizer=regularizers.l2(wght_decay)))\n",
        "model.add(Activation('relu'))\n",
        "model.add(BatchNormalization())\n",
        "\n",
        "model.add(MaxPooling2D(pool_size=(2, 2)))\n",
        "\n",
        "\n",
        "model.add(Conv2D(512, (3, 3), padding='same',kernel_regularizer=regularizers.l2(wght_decay)))\n",
        "model.add(Activation('relu'))\n",
        "model.add(BatchNormalization())\n",
        "model.add(Dropout(0.4))\n",
        "\n",
        "model.add(Conv2D(512, (3, 3), padding='same',kernel_regularizer=regularizers.l2(wght_decay)))\n",
        "model.add(Activation('relu'))\n",
        "model.add(BatchNormalization())\n",
        "model.add(Dropout(0.4))\n",
        "\n",
        "model.add(Conv2D(512, (3, 3), padding='same',kernel_regularizer=regularizers.l2(wght_decay)))\n",
        "model.add(Activation('relu'))\n",
        "model.add(BatchNormalization())\n",
        "\n",
        "model.add(MaxPooling2D(pool_size=(2, 2)))\n",
        "\n",
        "\n",
        "model.add(Conv2D(512, (3, 3), padding='same',kernel_regularizer=regularizers.l2(wght_decay)))\n",
        "model.add(Activation('relu'))\n",
        "model.add(BatchNormalization())\n",
        "model.add(Dropout(0.4))\n",
        "\n",
        "model.add(Conv2D(512, (3, 3), padding='same',kernel_regularizer=regularizers.l2(wght_decay)))\n",
        "model.add(Activation('relu'))\n",
        "model.add(BatchNormalization())\n",
        "model.add(Dropout(0.4))\n",
        "\n",
        "model.add(Conv2D(512, (3, 3), padding='same',kernel_regularizer=regularizers.l2(wght_decay)))\n",
        "model.add(Activation('relu'))\n",
        "model.add(BatchNormalization())\n",
        "\n",
        "model.add(MaxPooling2D(pool_size=(2, 2)))\n",
        "model.add(Dropout(0.5))\n",
        "\n",
        "model.add(Flatten())\n",
        "model.add(Dense(512,kernel_regularizer=regularizers.l2(wght_decay)))\n",
        "model.add(Activation('relu'))\n",
        "model.add(BatchNormalization())\n",
        "\n",
        "model.add(Dropout(0.5))\n",
        "model.add(Dense(number_classes))\n",
        "model.add(Activation('softmax'))"
      ],
      "execution_count": 9,
      "outputs": []
    },
    {
      "cell_type": "code",
      "metadata": {
        "colab": {
          "base_uri": "https://localhost:8080/"
        },
        "id": "kYVlwkNKA6cj",
        "outputId": "688320d3-fd05-4112-c227-1ed1409991ab"
      },
      "source": [
        "model.summary()"
      ],
      "execution_count": 10,
      "outputs": [
        {
          "output_type": "stream",
          "text": [
            "Model: \"sequential\"\n",
            "_________________________________________________________________\n",
            "Layer (type)                 Output Shape              Param #   \n",
            "=================================================================\n",
            "conv2d (Conv2D)              (None, 32, 32, 64)        1792      \n",
            "_________________________________________________________________\n",
            "activation (Activation)      (None, 32, 32, 64)        0         \n",
            "_________________________________________________________________\n",
            "batch_normalization (BatchNo (None, 32, 32, 64)        256       \n",
            "_________________________________________________________________\n",
            "dropout (Dropout)            (None, 32, 32, 64)        0         \n",
            "_________________________________________________________________\n",
            "conv2d_1 (Conv2D)            (None, 32, 32, 64)        36928     \n",
            "_________________________________________________________________\n",
            "activation_1 (Activation)    (None, 32, 32, 64)        0         \n",
            "_________________________________________________________________\n",
            "batch_normalization_1 (Batch (None, 32, 32, 64)        256       \n",
            "_________________________________________________________________\n",
            "max_pooling2d (MaxPooling2D) (None, 16, 16, 64)        0         \n",
            "_________________________________________________________________\n",
            "conv2d_2 (Conv2D)            (None, 16, 16, 128)       73856     \n",
            "_________________________________________________________________\n",
            "activation_2 (Activation)    (None, 16, 16, 128)       0         \n",
            "_________________________________________________________________\n",
            "batch_normalization_2 (Batch (None, 16, 16, 128)       512       \n",
            "_________________________________________________________________\n",
            "dropout_1 (Dropout)          (None, 16, 16, 128)       0         \n",
            "_________________________________________________________________\n",
            "conv2d_3 (Conv2D)            (None, 16, 16, 128)       147584    \n",
            "_________________________________________________________________\n",
            "activation_3 (Activation)    (None, 16, 16, 128)       0         \n",
            "_________________________________________________________________\n",
            "batch_normalization_3 (Batch (None, 16, 16, 128)       512       \n",
            "_________________________________________________________________\n",
            "max_pooling2d_1 (MaxPooling2 (None, 8, 8, 128)         0         \n",
            "_________________________________________________________________\n",
            "conv2d_4 (Conv2D)            (None, 8, 8, 256)         295168    \n",
            "_________________________________________________________________\n",
            "activation_4 (Activation)    (None, 8, 8, 256)         0         \n",
            "_________________________________________________________________\n",
            "batch_normalization_4 (Batch (None, 8, 8, 256)         1024      \n",
            "_________________________________________________________________\n",
            "dropout_2 (Dropout)          (None, 8, 8, 256)         0         \n",
            "_________________________________________________________________\n",
            "conv2d_5 (Conv2D)            (None, 8, 8, 256)         590080    \n",
            "_________________________________________________________________\n",
            "activation_5 (Activation)    (None, 8, 8, 256)         0         \n",
            "_________________________________________________________________\n",
            "batch_normalization_5 (Batch (None, 8, 8, 256)         1024      \n",
            "_________________________________________________________________\n",
            "dropout_3 (Dropout)          (None, 8, 8, 256)         0         \n",
            "_________________________________________________________________\n",
            "conv2d_6 (Conv2D)            (None, 8, 8, 256)         590080    \n",
            "_________________________________________________________________\n",
            "activation_6 (Activation)    (None, 8, 8, 256)         0         \n",
            "_________________________________________________________________\n",
            "batch_normalization_6 (Batch (None, 8, 8, 256)         1024      \n",
            "_________________________________________________________________\n",
            "max_pooling2d_2 (MaxPooling2 (None, 4, 4, 256)         0         \n",
            "_________________________________________________________________\n",
            "conv2d_7 (Conv2D)            (None, 4, 4, 512)         1180160   \n",
            "_________________________________________________________________\n",
            "activation_7 (Activation)    (None, 4, 4, 512)         0         \n",
            "_________________________________________________________________\n",
            "batch_normalization_7 (Batch (None, 4, 4, 512)         2048      \n",
            "_________________________________________________________________\n",
            "dropout_4 (Dropout)          (None, 4, 4, 512)         0         \n",
            "_________________________________________________________________\n",
            "conv2d_8 (Conv2D)            (None, 4, 4, 512)         2359808   \n",
            "_________________________________________________________________\n",
            "activation_8 (Activation)    (None, 4, 4, 512)         0         \n",
            "_________________________________________________________________\n",
            "batch_normalization_8 (Batch (None, 4, 4, 512)         2048      \n",
            "_________________________________________________________________\n",
            "dropout_5 (Dropout)          (None, 4, 4, 512)         0         \n",
            "_________________________________________________________________\n",
            "conv2d_9 (Conv2D)            (None, 4, 4, 512)         2359808   \n",
            "_________________________________________________________________\n",
            "activation_9 (Activation)    (None, 4, 4, 512)         0         \n",
            "_________________________________________________________________\n",
            "batch_normalization_9 (Batch (None, 4, 4, 512)         2048      \n",
            "_________________________________________________________________\n",
            "max_pooling2d_3 (MaxPooling2 (None, 2, 2, 512)         0         \n",
            "_________________________________________________________________\n",
            "conv2d_10 (Conv2D)           (None, 2, 2, 512)         2359808   \n",
            "_________________________________________________________________\n",
            "activation_10 (Activation)   (None, 2, 2, 512)         0         \n",
            "_________________________________________________________________\n",
            "batch_normalization_10 (Batc (None, 2, 2, 512)         2048      \n",
            "_________________________________________________________________\n",
            "dropout_6 (Dropout)          (None, 2, 2, 512)         0         \n",
            "_________________________________________________________________\n",
            "conv2d_11 (Conv2D)           (None, 2, 2, 512)         2359808   \n",
            "_________________________________________________________________\n",
            "activation_11 (Activation)   (None, 2, 2, 512)         0         \n",
            "_________________________________________________________________\n",
            "batch_normalization_11 (Batc (None, 2, 2, 512)         2048      \n",
            "_________________________________________________________________\n",
            "dropout_7 (Dropout)          (None, 2, 2, 512)         0         \n",
            "_________________________________________________________________\n",
            "conv2d_12 (Conv2D)           (None, 2, 2, 512)         2359808   \n",
            "_________________________________________________________________\n",
            "activation_12 (Activation)   (None, 2, 2, 512)         0         \n",
            "_________________________________________________________________\n",
            "batch_normalization_12 (Batc (None, 2, 2, 512)         2048      \n",
            "_________________________________________________________________\n",
            "max_pooling2d_4 (MaxPooling2 (None, 1, 1, 512)         0         \n",
            "_________________________________________________________________\n",
            "dropout_8 (Dropout)          (None, 1, 1, 512)         0         \n",
            "_________________________________________________________________\n",
            "flatten (Flatten)            (None, 512)               0         \n",
            "_________________________________________________________________\n",
            "dense (Dense)                (None, 512)               262656    \n",
            "_________________________________________________________________\n",
            "activation_13 (Activation)   (None, 512)               0         \n",
            "_________________________________________________________________\n",
            "batch_normalization_13 (Batc (None, 512)               2048      \n",
            "_________________________________________________________________\n",
            "dropout_9 (Dropout)          (None, 512)               0         \n",
            "_________________________________________________________________\n",
            "dense_1 (Dense)              (None, 10)                5130      \n",
            "_________________________________________________________________\n",
            "activation_14 (Activation)   (None, 10)                0         \n",
            "=================================================================\n",
            "Total params: 15,001,418\n",
            "Trainable params: 14,991,946\n",
            "Non-trainable params: 9,472\n",
            "_________________________________________________________________\n"
          ],
          "name": "stdout"
        }
      ]
    },
    {
      "cell_type": "code",
      "metadata": {
        "id": "SVJZ-2dgBGkC"
      },
      "source": [
        "image_augm = ImageDataGenerator(\n",
        "            featurewise_center=False,  # set input mean to 0 over the dataset\n",
        "            samplewise_center=False,  # set each sample mean to 0\n",
        "            featurewise_std_normalization=False,  # divide inputs by std of the dataset\n",
        "            samplewise_std_normalization=False,  # divide each input by its std\n",
        "            zca_whitening=False,  # apply ZCA whitening\n",
        "            rotation_range=12,  # randomly rotate images in the range (degrees, 0 to 180)\n",
        "            width_shift_range=0.2,  # randomly shift images horizontally (fraction of total width)\n",
        "            height_shift_range=0.1,  # randomly shift images vertically (fraction of total height)\n",
        "            horizontal_flip=True,  # randomly flip images\n",
        "            vertical_flip=False)  # randomly flip images"
      ],
      "execution_count": 11,
      "outputs": []
    },
    {
      "cell_type": "code",
      "metadata": {
        "id": "m0yXwikeA9Mc"
      },
      "source": [
        "image_augm.fit(x_train)\n",
        "sgd = optimizers.SGD(lr=learning_rate, decay=learning_decay, momentum=0.9, nesterov=True)\n",
        "model.compile(loss='categorical_crossentropy', optimizer=sgd,metrics=['accuracy'])"
      ],
      "execution_count": 17,
      "outputs": []
    },
    {
      "cell_type": "code",
      "metadata": {
        "id": "N_jwDAjnBM85"
      },
      "source": [
        "filepath=\"weights.VGGcifar.hdf5\"\n",
        "checkpoint = ModelCheckpoint(filepath, monitor='val_accuracy', verbose=1, save_best_only=True, mode='max')"
      ],
      "execution_count": 18,
      "outputs": []
    },
    {
      "cell_type": "code",
      "metadata": {
        "id": "HtKRhOiOBNCK"
      },
      "source": [
        "callbacks_list = [checkpoint]"
      ],
      "execution_count": 19,
      "outputs": []
    },
    {
      "cell_type": "code",
      "metadata": {
        "colab": {
          "base_uri": "https://localhost:8080/"
        },
        "id": "SRwcVHOkBNFU",
        "outputId": "369e7d47-f871-4a8e-8fe1-69ed9ed404a6"
      },
      "source": [
        "trained_model = model.fit_generator(image_augm.flow(x_train, y_train,\n",
        "                                         batch_size=batch_size),\n",
        "                            steps_per_epoch=x_train.shape[0]//batch_size,\n",
        "                            epochs=maxepoches,\n",
        "                            validation_data=(x_test, y_test),callbacks=callbacks_list,verbose=1)"
      ],
      "execution_count": 20,
      "outputs": [
        {
          "output_type": "stream",
          "text": [
            "Epoch 1/30\n",
            "1561/1562 [============================>.] - ETA: 0s - loss: 19.6813 - accuracy: 0.1823\n",
            "Epoch 00001: val_accuracy improved from -inf to 0.14630, saving model to weights.VGGcifar.hdf5\n",
            "1562/1562 [==============================] - 56s 36ms/step - loss: 19.6815 - accuracy: 0.1823 - val_loss: 55.0811 - val_accuracy: 0.1463\n",
            "Epoch 2/30\n",
            "1561/1562 [============================>.] - ETA: 0s - loss: 17.3236 - accuracy: 0.2425\n",
            "Epoch 00002: val_accuracy did not improve from 0.14630\n",
            "1562/1562 [==============================] - 57s 36ms/step - loss: 17.3222 - accuracy: 0.2424 - val_loss: 31.7347 - val_accuracy: 0.0720\n",
            "Epoch 3/30\n",
            "1561/1562 [============================>.] - ETA: 0s - loss: 13.1981 - accuracy: 0.2790\n",
            "Epoch 00003: val_accuracy improved from 0.14630 to 0.16770, saving model to weights.VGGcifar.hdf5\n",
            "1562/1562 [==============================] - 57s 37ms/step - loss: 13.1972 - accuracy: 0.2790 - val_loss: 18.9803 - val_accuracy: 0.1677\n",
            "Epoch 4/30\n",
            "1561/1562 [============================>.] - ETA: 0s - loss: 10.3686 - accuracy: 0.2679\n",
            "Epoch 00004: val_accuracy improved from 0.16770 to 0.23050, saving model to weights.VGGcifar.hdf5\n",
            "1562/1562 [==============================] - 57s 37ms/step - loss: 10.3676 - accuracy: 0.2681 - val_loss: 9.7538 - val_accuracy: 0.2305\n",
            "Epoch 5/30\n",
            "1561/1562 [============================>.] - ETA: 0s - loss: 8.1155 - accuracy: 0.3357\n",
            "Epoch 00005: val_accuracy improved from 0.23050 to 0.35520, saving model to weights.VGGcifar.hdf5\n",
            "1562/1562 [==============================] - 57s 37ms/step - loss: 8.1148 - accuracy: 0.3357 - val_loss: 7.2942 - val_accuracy: 0.3552\n",
            "Epoch 6/30\n",
            "1561/1562 [============================>.] - ETA: 0s - loss: 6.4237 - accuracy: 0.3814\n",
            "Epoch 00006: val_accuracy improved from 0.35520 to 0.38750, saving model to weights.VGGcifar.hdf5\n",
            "1562/1562 [==============================] - 57s 37ms/step - loss: 6.4230 - accuracy: 0.3815 - val_loss: 5.7950 - val_accuracy: 0.3875\n",
            "Epoch 7/30\n",
            "1561/1562 [============================>.] - ETA: 0s - loss: 5.1018 - accuracy: 0.4408\n",
            "Epoch 00007: val_accuracy improved from 0.38750 to 0.45100, saving model to weights.VGGcifar.hdf5\n",
            "1562/1562 [==============================] - 57s 37ms/step - loss: 5.1014 - accuracy: 0.4409 - val_loss: 4.6903 - val_accuracy: 0.4510\n",
            "Epoch 8/30\n",
            "1562/1562 [==============================] - ETA: 0s - loss: 4.2125 - accuracy: 0.4807\n",
            "Epoch 00008: val_accuracy improved from 0.45100 to 0.50750, saving model to weights.VGGcifar.hdf5\n",
            "1562/1562 [==============================] - 57s 37ms/step - loss: 4.2125 - accuracy: 0.4807 - val_loss: 3.8175 - val_accuracy: 0.5075\n",
            "Epoch 9/30\n",
            "1561/1562 [============================>.] - ETA: 0s - loss: 3.4820 - accuracy: 0.5197\n",
            "Epoch 00009: val_accuracy improved from 0.50750 to 0.55110, saving model to weights.VGGcifar.hdf5\n",
            "1562/1562 [==============================] - 57s 37ms/step - loss: 3.4818 - accuracy: 0.5196 - val_loss: 3.1400 - val_accuracy: 0.5511\n",
            "Epoch 10/30\n",
            "1562/1562 [==============================] - ETA: 0s - loss: 2.9222 - accuracy: 0.5594\n",
            "Epoch 00010: val_accuracy improved from 0.55110 to 0.62850, saving model to weights.VGGcifar.hdf5\n",
            "1562/1562 [==============================] - 58s 37ms/step - loss: 2.9222 - accuracy: 0.5594 - val_loss: 2.5178 - val_accuracy: 0.6285\n",
            "Epoch 11/30\n",
            "1561/1562 [============================>.] - ETA: 0s - loss: 2.5171 - accuracy: 0.5848\n",
            "Epoch 00011: val_accuracy improved from 0.62850 to 0.63950, saving model to weights.VGGcifar.hdf5\n",
            "1562/1562 [==============================] - 57s 37ms/step - loss: 2.5173 - accuracy: 0.5848 - val_loss: 2.2315 - val_accuracy: 0.6395\n",
            "Epoch 12/30\n",
            "1561/1562 [============================>.] - ETA: 0s - loss: 2.2038 - accuracy: 0.6101\n",
            "Epoch 00012: val_accuracy improved from 0.63950 to 0.64280, saving model to weights.VGGcifar.hdf5\n",
            "1562/1562 [==============================] - 57s 37ms/step - loss: 2.2037 - accuracy: 0.6101 - val_loss: 2.0814 - val_accuracy: 0.6428\n",
            "Epoch 13/30\n",
            "1561/1562 [============================>.] - ETA: 0s - loss: 1.9813 - accuracy: 0.6347\n",
            "Epoch 00013: val_accuracy improved from 0.64280 to 0.67800, saving model to weights.VGGcifar.hdf5\n",
            "1562/1562 [==============================] - 57s 37ms/step - loss: 1.9811 - accuracy: 0.6348 - val_loss: 1.7751 - val_accuracy: 0.6780\n",
            "Epoch 14/30\n",
            "1561/1562 [============================>.] - ETA: 0s - loss: 1.8217 - accuracy: 0.6504\n",
            "Epoch 00014: val_accuracy improved from 0.67800 to 0.71320, saving model to weights.VGGcifar.hdf5\n",
            "1562/1562 [==============================] - 57s 37ms/step - loss: 1.8214 - accuracy: 0.6505 - val_loss: 1.6086 - val_accuracy: 0.7132\n",
            "Epoch 15/30\n",
            "1561/1562 [============================>.] - ETA: 0s - loss: 1.7099 - accuracy: 0.6627\n",
            "Epoch 00015: val_accuracy improved from 0.71320 to 0.75050, saving model to weights.VGGcifar.hdf5\n",
            "1562/1562 [==============================] - 57s 37ms/step - loss: 1.7099 - accuracy: 0.6627 - val_loss: 1.4100 - val_accuracy: 0.7505\n",
            "Epoch 16/30\n",
            "1561/1562 [============================>.] - ETA: 0s - loss: 1.6264 - accuracy: 0.6774\n",
            "Epoch 00016: val_accuracy did not improve from 0.75050\n",
            "1562/1562 [==============================] - 57s 36ms/step - loss: 1.6263 - accuracy: 0.6774 - val_loss: 1.4851 - val_accuracy: 0.7182\n",
            "Epoch 17/30\n",
            "1561/1562 [============================>.] - ETA: 0s - loss: 1.5599 - accuracy: 0.6904\n",
            "Epoch 00017: val_accuracy did not improve from 0.75050\n",
            "1562/1562 [==============================] - 57s 37ms/step - loss: 1.5602 - accuracy: 0.6903 - val_loss: 1.3619 - val_accuracy: 0.7439\n",
            "Epoch 18/30\n",
            "1561/1562 [============================>.] - ETA: 0s - loss: 1.5277 - accuracy: 0.6968\n",
            "Epoch 00018: val_accuracy improved from 0.75050 to 0.76640, saving model to weights.VGGcifar.hdf5\n",
            "1562/1562 [==============================] - 57s 37ms/step - loss: 1.5278 - accuracy: 0.6967 - val_loss: 1.2814 - val_accuracy: 0.7664\n",
            "Epoch 19/30\n",
            "1562/1562 [==============================] - ETA: 0s - loss: 1.4829 - accuracy: 0.7047\n",
            "Epoch 00019: val_accuracy improved from 0.76640 to 0.77310, saving model to weights.VGGcifar.hdf5\n",
            "1562/1562 [==============================] - 57s 37ms/step - loss: 1.4829 - accuracy: 0.7047 - val_loss: 1.2659 - val_accuracy: 0.7731\n",
            "Epoch 20/30\n",
            "1561/1562 [============================>.] - ETA: 0s - loss: 1.4694 - accuracy: 0.7106\n",
            "Epoch 00020: val_accuracy did not improve from 0.77310\n",
            "1562/1562 [==============================] - 57s 36ms/step - loss: 1.4693 - accuracy: 0.7106 - val_loss: 1.3106 - val_accuracy: 0.7612\n",
            "Epoch 21/30\n",
            "1561/1562 [============================>.] - ETA: 0s - loss: 1.4532 - accuracy: 0.7190\n",
            "Epoch 00021: val_accuracy improved from 0.77310 to 0.78830, saving model to weights.VGGcifar.hdf5\n",
            "1562/1562 [==============================] - 57s 37ms/step - loss: 1.4532 - accuracy: 0.7190 - val_loss: 1.2225 - val_accuracy: 0.7883\n",
            "Epoch 22/30\n",
            "1561/1562 [============================>.] - ETA: 0s - loss: 1.4398 - accuracy: 0.7258\n",
            "Epoch 00022: val_accuracy did not improve from 0.78830\n",
            "1562/1562 [==============================] - 57s 36ms/step - loss: 1.4397 - accuracy: 0.7258 - val_loss: 1.2966 - val_accuracy: 0.7718\n",
            "Epoch 23/30\n",
            "1562/1562 [==============================] - ETA: 0s - loss: 1.4334 - accuracy: 0.7304\n",
            "Epoch 00023: val_accuracy did not improve from 0.78830\n",
            "1562/1562 [==============================] - 57s 37ms/step - loss: 1.4334 - accuracy: 0.7304 - val_loss: 1.2556 - val_accuracy: 0.7844\n",
            "Epoch 24/30\n",
            "1561/1562 [============================>.] - ETA: 0s - loss: 1.4233 - accuracy: 0.7336\n",
            "Epoch 00024: val_accuracy did not improve from 0.78830\n",
            "1562/1562 [==============================] - 57s 36ms/step - loss: 1.4235 - accuracy: 0.7336 - val_loss: 1.2695 - val_accuracy: 0.7837\n",
            "Epoch 25/30\n",
            "1561/1562 [============================>.] - ETA: 0s - loss: 1.4149 - accuracy: 0.7385\n",
            "Epoch 00025: val_accuracy did not improve from 0.78830\n",
            "1562/1562 [==============================] - 57s 36ms/step - loss: 1.4148 - accuracy: 0.7385 - val_loss: 1.3233 - val_accuracy: 0.7761\n",
            "Epoch 26/30\n",
            "1562/1562 [==============================] - ETA: 0s - loss: 1.4155 - accuracy: 0.7412\n",
            "Epoch 00026: val_accuracy improved from 0.78830 to 0.79100, saving model to weights.VGGcifar.hdf5\n",
            "1562/1562 [==============================] - 57s 37ms/step - loss: 1.4155 - accuracy: 0.7412 - val_loss: 1.2395 - val_accuracy: 0.7910\n",
            "Epoch 27/30\n",
            "1561/1562 [============================>.] - ETA: 0s - loss: 1.4091 - accuracy: 0.7468\n",
            "Epoch 00027: val_accuracy did not improve from 0.79100\n",
            "1562/1562 [==============================] - 57s 36ms/step - loss: 1.4091 - accuracy: 0.7468 - val_loss: 1.3200 - val_accuracy: 0.7835\n",
            "Epoch 28/30\n",
            "1562/1562 [==============================] - ETA: 0s - loss: 1.4110 - accuracy: 0.7479\n",
            "Epoch 00028: val_accuracy did not improve from 0.79100\n",
            "1562/1562 [==============================] - 57s 36ms/step - loss: 1.4110 - accuracy: 0.7479 - val_loss: 1.3021 - val_accuracy: 0.7890\n",
            "Epoch 29/30\n",
            "1561/1562 [============================>.] - ETA: 0s - loss: 1.4104 - accuracy: 0.7516\n",
            "Epoch 00029: val_accuracy did not improve from 0.79100\n",
            "1562/1562 [==============================] - 57s 36ms/step - loss: 1.4103 - accuracy: 0.7516 - val_loss: 1.3857 - val_accuracy: 0.7759\n",
            "Epoch 30/30\n",
            "1562/1562 [==============================] - ETA: 0s - loss: 1.4089 - accuracy: 0.7556\n",
            "Epoch 00030: val_accuracy improved from 0.79100 to 0.79940, saving model to weights.VGGcifar.hdf5\n",
            "1562/1562 [==============================] - 57s 37ms/step - loss: 1.4089 - accuracy: 0.7556 - val_loss: 1.2595 - val_accuracy: 0.7994\n"
          ],
          "name": "stdout"
        }
      ]
    },
    {
      "cell_type": "code",
      "metadata": {
        "colab": {
          "base_uri": "https://localhost:8080/",
          "height": 312
        },
        "id": "6AW2ScuaBNIC",
        "outputId": "50efd0c4-b94f-4cf2-9e5a-bb4366ccd7e2"
      },
      "source": [
        "import matplotlib.pyplot as plt\n",
        "f, ax = plt.subplots()\n",
        "ax.plot([None] + trained_model.history['accuracy'], 'o-')\n",
        "ax.plot([None] + trained_model.history['val_accuracy'], 'x-')\n",
        "ax.legend(['Train acc', 'Validation acc'], loc = 0)\n",
        "ax.set_title('Training/Validation acc per Epoch')\n",
        "ax.set_xlabel('Epoch')\n",
        "ax.set_ylabel('acc')"
      ],
      "execution_count": 21,
      "outputs": [
        {
          "output_type": "execute_result",
          "data": {
            "text/plain": [
              "Text(0, 0.5, 'acc')"
            ]
          },
          "metadata": {
            "tags": []
          },
          "execution_count": 21
        },
        {
          "output_type": "display_data",
          "data": {
            "image/png": "[encoded data removed]",
            "text/plain": [
              "<Figure size 432x288 with 1 Axes>"
            ]
          },
          "metadata": {
            "tags": [],
            "needs_background": "light"
          }
        }
      ]
    },
    {
      "cell_type": "code",
      "metadata": {
        "colab": {
          "base_uri": "https://localhost:8080/",
          "height": 312
        },
        "id": "RsGP4WaAAwb2",
        "outputId": "3b9eea13-edaf-48f8-c08e-da1e7da233ff"
      },
      "source": [
        "import matplotlib.pyplot as plt\n",
        "f, ax = plt.subplots()\n",
        "ax.plot([None] + trained_model.history['loss'], 'o-')\n",
        "ax.plot([None] + trained_model.history['val_loss'], 'x-')\n",
        "ax.legend(['Train loss', 'Validation loss'], loc = 0)\n",
        "ax.set_title('Training/Validation loss per Epoch')\n",
        "ax.set_xlabel('Epoch')\n",
        "ax.set_ylabel('acc')"
      ],
      "execution_count": 22,
      "outputs": [
        {
          "output_type": "execute_result",
          "data": {
            "text/plain": [
              "Text(0, 0.5, 'acc')"
            ]
          },
          "metadata": {
            "tags": []
          },
          "execution_count": 22
        },
        {
          "output_type": "display_data",
          "data": {
            "image/png": "[encoded data removed]",
            "text/plain": [
              "<Figure size 432x288 with 1 Axes>"
            ]
          },
          "metadata": {
            "tags": [],
            "needs_background": "light"
          }
        }
      ]
    },
    {
      "cell_type": "code",
      "metadata": {
        "id": "9wrY88W1BjIb"
      },
      "source": [
        "predictions = trained_model.model.predict(x_test)"
      ],
      "execution_count": 23,
      "outputs": []
    },
    {
      "cell_type": "code",
      "metadata": {
        "colab": {
          "base_uri": "https://localhost:8080/"
        },
        "id": "whXOkbtQBjK6",
        "outputId": "e5516def-ab65-4b0f-9c58-9ebddcf65424"
      },
      "source": [
        "from sklearn.metrics import confusion_matrix\n",
        "import numpy as np\n",
        "\n",
        "rounded_labels=np.argmax(y_test, axis=1)\n",
        "rounded_labels[1]"
      ],
      "execution_count": 24,
      "outputs": [
        {
          "output_type": "execute_result",
          "data": {
            "text/plain": [
              "8"
            ]
          },
          "metadata": {
            "tags": []
          },
          "execution_count": 24
        }
      ]
    },
    {
      "cell_type": "code",
      "metadata": {
        "colab": {
          "base_uri": "https://localhost:8080/"
        },
        "id": "55MAqtFQBoNY",
        "outputId": "ba3f8861-8045-4778-c3f7-88275ecbd469"
      },
      "source": [
        "cm = confusion_matrix(rounded_labels, np.argmax(predictions,axis=1))\n",
        "cm"
      ],
      "execution_count": 25,
      "outputs": [
        {
          "output_type": "execute_result",
          "data": {
            "text/plain": [
              "array([[781,   9,  31,  16,  22,   0,   0,  11,  55,  75],\n",
              "       [  6, 823,   0,   0,   0,   0,   3,   1,  28, 139],\n",
              "       [ 43,   1, 716,  78,  86,  10,  45,  11,   6,   4],\n",
              "       [ 16,   2,  27, 725,  62,  25,  60,  22,  47,  14],\n",
              "       [  7,   1,  25,  40, 884,   2,  29,   7,   4,   1],\n",
              "       [  3,   5,  35, 268,  61, 533,  37,  31,  18,   9],\n",
              "       [  7,   1,  29,  46,  20,   0, 882,   3,  10,   2],\n",
              "       [ 11,   0,  12,  60, 100,   8,   9, 786,   6,   8],\n",
              "       [ 34,   5,   9,   5,   2,   0,   4,   0, 922,  19],\n",
              "       [  5,  17,   2,   5,   2,   0,   2,   0,  25, 942]])"
            ]
          },
          "metadata": {
            "tags": []
          },
          "execution_count": 25
        }
      ]
    },
    {
      "cell_type": "code",
      "metadata": {
        "id": "aL8Rjt3MBjHV"
      },
      "source": [
        "def plot_confusion_matrix(cm):\n",
        "    cm = [row/sum(row)   for row in cm]\n",
        "    fig = plt.figure(figsize=(10, 10))\n",
        "    ax = fig.add_subplot(111)\n",
        "    cax = ax.matshow(cm, cmap=plt.cm.Oranges)\n",
        "    fig.colorbar(cax)\n",
        "    plt.title('Confusion Matrix')\n",
        "    plt.xlabel('Predicted Class IDs')\n",
        "    plt.ylabel('True Class IDs')\n",
        "    plt.show()"
      ],
      "execution_count": 26,
      "outputs": []
    },
    {
      "cell_type": "code",
      "metadata": {
        "colab": {
          "base_uri": "https://localhost:8080/",
          "height": 580
        },
        "id": "FX1mHd5uGcyX",
        "outputId": "d4a536f4-4079-4c88-96e8-f50c2b754c5c"
      },
      "source": [
        "plot_confusion_matrix(cm)"
      ],
      "execution_count": 27,
      "outputs": [
        {
          "output_type": "display_data",
          "data": {
            "image/png": "[encoded data removed]",
            "text/plain": [
              "<Figure size 720x720 with 2 Axes>"
            ]
          },
          "metadata": {
            "tags": [],
            "needs_background": "light"
          }
        }
      ]
    },
    {
      "cell_type": "code",
      "metadata": {
        "id": "Gxv1FVPFOCNy"
      },
      "source": [
        ""
      ],
      "execution_count": null,
      "outputs": []
    }
  ]
}